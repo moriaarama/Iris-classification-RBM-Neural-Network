{
 "cells": [
  {
   "cell_type": "markdown",
   "metadata": {},
   "source": [
    "# Restricted Boltzmann Machine for Iris Dataset Classification\n",
    "\n",
    "## 🌸 Overview\n",
    "\n",
    "This notebook implements a **Restricted Boltzmann Machine (RBM)** from scratch to classify the famous Iris flower dataset. We'll demonstrate how to use probabilistic neural networks for pattern recognition without relying on external deep learning libraries.\n",
    "\n",
    "### Key Features:\n",
    "- ✅ Pure NumPy implementation (no deep learning frameworks)\n",
    "- ✅ Mathematical explanations with equations\n",
    "- ✅ Data discretization for binary neural networks\n",
    "- ✅ Energy-based learning with Contrastive Divergence\n",
    "- ✅ Before/after training comparison\n",
    "\n",
    "---"
   ]
  },
  {
   "cell_type": "markdown",
   "metadata": {},
   "source": [
    "## 📚 About the Iris Dataset\n",
    "\n",
    "The [Iris flower dataset](https://en.wikipedia.org/wiki/Iris_flower_data_set) is one of the most famous datasets in machine learning, introduced by British statistician Ronald Fisher in 1936.\n",
    "\n",
    "**Dataset characteristics:**\n",
    "- **150 samples** of iris flowers\n",
    "- **4 features** for each sample:\n",
    "  - Sepal Length (cm)\n",
    "  - Sepal Width (cm) \n",
    "  - Petal Length (cm)\n",
    "  - Petal Width (cm)\n",
    "- **3 classes** of iris species:\n",
    "  - Iris-setosa\n",
    "  - Iris-versicolor\n",
    "  - Iris-virginica\n",
    "\n",
    "**Goal**: Predict the iris species based on the four flower measurements."
   ]
  },
  {
   "cell_type": "code",
   "execution_count": null,
   "metadata": {},
   "outputs": [],
   "source": [
    "# Import necessary libraries\n",
    "import pandas as pd\n",
    "import numpy as np\n",
    "import matplotlib.pyplot as plt\n",
    "import seaborn as sns\n",
    "from sklearn.datasets import load_iris\n",
    "import warnings\n",
    "warnings.filterwarnings('ignore')\n",
    "\n",
    "# Set random seed for reproducibility\n",
    "np.random.seed(42)\n",
    "\n",
    "print(\"📦 Libraries imported successfully!\")\n",
    "print(f\"NumPy version: {np.__version__}\")\n",
    "print(f\"Pandas version: {pd.__version__}\")"
   ]
  },
  {
   "cell_type": "markdown",
   "metadata": {},
   "source": [
    "## 🔍 Load and Explore the Dataset"
   ]
  },
  {
   "cell_type": "code",
   "execution_count": null,
   "metadata": {},
   "outputs": [],
   "source": [
    "# Load the Iris dataset\n",
    "iris = load_iris()\n",
    "df = pd.DataFrame(iris.data, columns=iris.feature_names)\n",
    "df['species'] = iris.target\n",
    "df['species_name'] = df['species'].map({0: 'Iris-setosa', 1: 'Iris-versicolor', 2: 'Iris-virginica'})\n",
    "\n",
    "# Rename columns to match our implementation\n",
    "df.columns = ['SepalLengthCm', 'SepalWidthCm', 'PetalLengthCm', 'PetalWidthCm', 'Species_num', 'Species']\n",
    "\n",
    "print(\"🌸 Iris Dataset Overview:\")\n",
    "print(f\"Shape: {df.shape}\")\n",
    "print(\"\\nFirst 5 rows:\")\n",
    "display(df.head())\n",
    "\n",
    "print(\"\\n📊 Dataset Statistics:\")\n",
    "display(df.describe())\n",
    "\n",
    "print(\"\\n🏷️ Class Distribution:\")\n",
    "print(df['Species'].value_counts())"
   ]
  },
  {
   "cell_type": "code",
   "execution_count": null,
   "metadata": {},
   "outputs": [],
   "source": [
    "# Visualize the dataset\n",
    "fig, axes = plt.subplots(2, 2, figsize=(15, 10))\n",
    "features = ['SepalLengthCm', 'SepalWidthCm', 'PetalLengthCm', 'PetalWidthCm']\n",
    "\n",
    "for i, feature in enumerate(features):\n",
    "    row, col = i // 2, i % 2\n",
    "    sns.boxplot(data=df, x='Species', y=feature, ax=axes[row, col])\n",
    "    axes[row, col].set_title(f'Distribution of {feature}', fontsize=12)\n",
    "    axes[row, col].tick_params(axis='x', rotation=45)\n",
    "\n",
    "plt.tight_layout()\n",
    "plt.show()\n",
    "\n",
    "print(\"📈 The boxplots show clear differences between species, making classification feasible!\")"
   ]
  },
  {
   "cell_type": "markdown",
   "metadata": {},
   "source": [
    "## 🧠 Understanding Boltzmann Machines\n",
    "\n",
    "### What is a Boltzmann Machine?\n",
    "\n",
    "A **Boltzmann Machine** is a type of stochastic neural network inspired by statistical mechanics:\n",
    "\n",
    "- **Binary neurons**: Each neuron can only be in state 0 or 1\n",
    "- **Stochastic activation**: Neurons activate probabilistically\n",
    "- **Energy-based model**: Network state determined by energy function\n",
    "- **Unsupervised learning**: Can learn patterns without labeled data\n",
    "\n",
    "### Restricted Boltzmann Machine (RBM)\n",
    "\n",
    "An **RBM** is a special type of Boltzmann machine with restrictions:\n",
    "- **Bipartite graph**: Only connections between visible and hidden layers\n",
    "- **No intra-layer connections**: Simplifies training\n",
    "\n",
    "### Network Architecture\n",
    "\n",
    "\n",
    "Hidden Layer (24 neurons)   h₁  h₂  h₃ ... h₂₄\n",
    "                            |   |   |      |\n",
    "                            |   |   |      |\n",
    "Visible Layer (15 neurons)  v₁  v₂  v₃ ... v₁₅\n",
    "                           [Features: 1-12] [Classes: 13-15]\n",
    ""
   ]
  },
  {
   "cell_type": "markdown",
   "metadata": {},
   "source": [
    "## 🔢 Mathematical Foundation\n",
    "\n",
    "### Energy Function\n",
    "\n",
    "The energy of a joint configuration $(v,h)$ is:\n",
    "\n",
    "$E(v,h) = -\\sum_{i=1}^{n^v} a_i v_i - \\sum_{j=1}^{n^h} b_j h_j - \\sum_{i=1}^{n^v} \\sum_{j=1}^{n^h} v_i W_{ij} h_j$\n",
    "\n",
    "Where:\n",
    "- $n^v = 15$: number of visible units\n",
    "- $n^h = 24$: number of hidden units\n",
    "- $v_i \\in \\{0,1\\}$: state of visible unit i\n",
    "- $h_j \\in \\{0,1\\}$: state of hidden unit j\n",
    "- $a_i$: bias of visible unit i\n",
    "- $b_j$: bias of hidden unit j\n",
    "- $W_{ij}$: weight connecting visible unit i to hidden unit j\n",
    "\n",
    "### Conditional Probabilities\n",
    "\n",
    "**Hidden unit activation:**\n",
    "$P(h_j = 1|v) = \\sigma\\left(b_j + \\sum_{i=1}^{n^v} v_i W_{ij}\\right)$\n",
    "\n",
    "**Visible unit activation:**\n",
    "$P(v_i = 1|h) = \\sigma\\left(a_i + \\sum_{j=1}^{n^h} h_j W_{ij}\\right)$\n",
    "\n",
    "Where $\\sigma(x) = \\frac{1}{1 + e^{-x}}$ is the sigmoid function."
   ]
  },
  {
   "cell_type": "markdown",
   "metadata": {},
   "source": [
    "## 🎯 Data Discretization\n",
    "\n",
    "Since RBMs work with binary data, we need to convert continuous features to binary representation.\n",
    "\n",
    "### Discretization Algorithm\n",
    "\n",
    "For each feature $f$ with values $\\{f_1, f_2, ..., f_n\\}$:\n",
    "\n",
    "1. **Calculate thresholds:**\n",
    "   - $threshold_1 = \\frac{f_{max}}{3}$\n",
    "   - $threshold_2 = \\frac{2 \\times f_{max}}{3}$\n",
    "\n",
    "2. **Mapping function:**\n",
    "   $discretize(f_i) = \\begin{cases}\n",
    "   [1, 0, 0] & \\text{if } f_i < threshold_1 \\text{ (Low)} \\\\\n",
    "   [0, 1, 0] & \\text{if } threshold_1 \\leq f_i < threshold_2 \\text{ (Medium)} \\\\\n",
    "   [0, 0, 1] & \\text{if } f_i \\geq threshold_2 \\text{ (High)}\n",
    "   \\end{cases}$"
   ]
  },
  {
   "cell_type": "code",
   "execution_count": null,
   "metadata": {},
   "outputs": [],
   "source": [
    "def discretize_features(df):\n",
    "    \"\"\"\n",
    "    Convert continuous features to binary representation\n",
    "    Each feature is split into 3 bins: Low, Medium, High\n",
    "    \"\"\"\n",
    "    print(\"🔄 Discretizing continuous features...\")\n",
    "    \n",
    "    # Calculate maximum values for each feature\n",
    "    max_petal_length = df['PetalLengthCm'].max()\n",
    "    max_petal_width = df['PetalWidthCm'].max()\n",
    "    max_sepal_length = df['SepalLengthCm'].max()\n",
    "    max_sepal_width = df['SepalWidthCm'].max()\n",
    "    \n",
    "    print(f\"📏 Feature ranges:\")\n",
    "    print(f\"   Petal Length: 0 - {max_petal_length:.2f} cm\")\n",
    "    print(f\"   Petal Width:  0 - {max_petal_width:.2f} cm\")\n",
    "    print(f\"   Sepal Length: 0 - {max_sepal_length:.2f} cm\")\n",
    "    print(f\"   Sepal Width:  0 - {max_sepal_width:.2f} cm\")\n",
    "    \n",
    "    data = []\n",
    "    classes = []\n",
    "    \n",
    "    for index, row in df.iterrows():\n",
    "        feature = []  # 12-dimensional binary input vector (4 features × 3 bins)\n",
    "        \n",
    "        # Discretize Petal Length\n",
    "        if row['PetalLengthCm'] < max_petal_length/3:\n",
    "            feature.extend([1, 0, 0])  # Low\n",
    "        elif row['PetalLengthCm'] < 2*max_petal_length/3:\n",
    "            feature.extend([0, 1, 0])  # Medium\n",
    "        else:\n",
    "            feature.extend([0, 0, 1])  # High\n",
    "        \n",
    "        # Discretize Petal Width\n",
    "        if row['PetalWidthCm'] < max_petal_width/3:\n",
    "            feature.extend([1, 0, 0])\n",
    "        elif row['PetalWidthCm'] < 2*max_petal_width/3:\n",
    "            feature.extend([0, 1, 0])\n",
    "        else:\n",
    "            feature.extend([0, 0, 1])\n",
    "        \n",
    "        # Discretize Sepal Length\n",
    "        if row['SepalLengthCm'] < max_sepal_length/3:\n",
    "            feature.extend([1, 0, 0])\n",
    "        elif row['SepalLengthCm'] < 2*max_sepal_length/3:\n",
    "            feature.extend([0, 1, 0])\n",
    "        else:\n",
    "            feature.extend([0, 0, 1])\n",
    "        \n",
    "        # Discretize Sepal Width\n",
    "        if row['SepalWidthCm'] < max_sepal_width/3:\n",
    "            feature.extend([1, 0, 0])\n",
    "        elif row['SepalWidthCm'] < 2*max_sepal_width/3:\n",
    "            feature.extend([0, 1, 0])\n",
    "        else:\n",
    "            feature.extend([0, 0, 1])\n",
    "        \n",
    "        data.append(feature)\n",
    "        \n",



























    "        # Convert species to one-hot